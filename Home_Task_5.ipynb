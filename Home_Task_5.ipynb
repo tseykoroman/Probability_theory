{
  "nbformat": 4,
  "nbformat_minor": 0,
  "metadata": {
    "kernelspec": {
      "display_name": "Python 3",
      "language": "python",
      "name": "python3"
    },
    "language_info": {
      "codemirror_mode": {
        "name": "ipython",
        "version": 3
      },
      "file_extension": ".py",
      "mimetype": "text/x-python",
      "name": "python",
      "nbconvert_exporter": "python",
      "pygments_lexer": "ipython3",
      "version": "3.7.4"
    },
    "colab": {
      "name": "Home_Task_5.ipynb",
      "provenance": [],
      "collapsed_sections": []
    }
  },
  "cells": [
    {
      "cell_type": "markdown",
      "metadata": {
        "id": "zdSh1_KRIs2e"
      },
      "source": [
        "# Урок 5. Проверка статистических гипотез. P-значения. Доверительные интервалы. A/B-тестирование\n",
        "\n",
        "## Выполнил - Цейко Р.А."
      ]
    },
    {
      "cell_type": "markdown",
      "metadata": {
        "id": "NcMjC8TKJvaf"
      },
      "source": [
        "# Задание\n",
        "\n",
        "**Задача 1**\n",
        "\n",
        "Известно, что генеральная совокупность распределена нормально с известным средним квадратическим отклонением 16. Найти доверительный интервал для оценки математического ожидания mu с надёжностью 0.95, если выборочное среднее равно 80, а объём равен 256.\n",
        "\n",
        "**Задача 2**\n",
        "\n",
        "Продавец утверждает, что средний вес пачки печенья составляет 200 г. Из партии извлечена выборка из 10 пачек. Вес каждой пачки составляет:\n",
        "\n",
        "202, 203, 199, 197, 195, 201, 200, 204, 194, 190\n",
        "\n",
        "Известно, что их веса распределены нормально.\n",
        "1. Верно ли утверждение продавца, если учитывать, что уровень значимости равен 1%?\n",
        "2. Найдите P-значение для данного теста.\n",
        "\n",
        "**Задача 3**\n",
        "\n",
        "Дана выборка диаметров подшипников из примера 1 с занятия 5:\n",
        "\n",
        "samples = [0.6603, 0.9466, 0.5968, 1.3792, 1.5481, 0.7515, 1.0681, 1.1134,\n",
        "1.2088, 1.701 , 1.0282, 1.3579, 1.0191, 1.1784, 1.1168, 1.1372,\n",
        "0.7273, 1.3958, 0.8665, 1.5112, 1.161 , 1.0232, 1.0865, 1.02 ]\n",
        "\n",
        "Предполагая, что диаметры подшипников распределены нормально, проверьте гипотезу о том, что дисперсия случайной величины равна 0.0625 при уровне значимости alpha = 0.05. Что для этого нужно знать:\n",
        "1. Альтернативная гипотеза двухсторонняя.\n",
        "2. Статистика для теста: H = (n - 1) * sample_variance / variance, где n - число элементов в выборке, sample_variance - несмещённая оценка дисперсии, variance - утверждаемая нулевой гипотезой дисперсия.\n",
        "3. Эта статистика в предположении верности нулевой гипотезы имеет распределение хи-квадрат с параметром df = n - 1. Её квантили можно найти с помощью функции scipy.stats.chi2.ppf."
      ]
    },
    {
      "cell_type": "code",
      "metadata": {
        "id": "h6dIVf5ZIs2f"
      },
      "source": [
        "import numpy as np\n",
        "from scipy import stats\n",
        "import math"
      ],
      "execution_count": 31,
      "outputs": []
    },
    {
      "cell_type": "markdown",
      "metadata": {
        "id": "ZjGfVKvbIs2k"
      },
      "source": [
        "### **Задача 1**"
      ]
    },
    {
      "cell_type": "markdown",
      "metadata": {
        "id": "CCdTvurGIs2m"
      },
      "source": [
        "Известно, что генеральная совокупность распределена нормально с известным средним квадратическим отклонением 16. Найти доверительный интервал для оценки математического ожидания mu с надёжностью 0.95, если выборочное среднее равно 80, а объём равен 256."
      ]
    },
    {
      "cell_type": "markdown",
      "metadata": {
        "id": "oeOBSr7fKAxi"
      },
      "source": [
        "## *Решение*"
      ]
    },
    {
      "cell_type": "markdown",
      "metadata": {
        "id": "QSgPDSgvqwYB"
      },
      "source": [
        "Среднеквадратичное отклонение генеральной совокупности $\\sigma = 16$\n",
        "\n",
        "Величина выборки $n = 256$\n",
        "\n",
        "Выборочное среднее $\\overline{X} = 80$\n",
        "\n",
        "Доверительная вероятность $0,95$, откуда $\\alpha = 0,05$\n",
        "\n",
        "Поскольку распределение нормальное, то"
      ]
    },
    {
      "cell_type": "code",
      "metadata": {
        "id": "krG7gtAgT5BA",
        "colab": {
          "base_uri": "https://localhost:8080/"
        },
        "outputId": "5c4ad622-ff84-416f-b56d-5a5ee3bef9f9"
      },
      "source": [
        "stats.norm.ppf(0.05 / 2)"
      ],
      "execution_count": 32,
      "outputs": [
        {
          "output_type": "execute_result",
          "data": {
            "text/plain": [
              "-1.9599639845400545"
            ]
          },
          "metadata": {},
          "execution_count": 32
        }
      ]
    },
    {
      "cell_type": "code",
      "metadata": {
        "id": "LFdmmINOT6Ex",
        "colab": {
          "base_uri": "https://localhost:8080/"
        },
        "outputId": "527dd780-f2dc-4419-a203-152cfd9224d1"
      },
      "source": [
        "stats.norm.ppf(1 - 0.05 / 2)"
      ],
      "execution_count": 33,
      "outputs": [
        {
          "output_type": "execute_result",
          "data": {
            "text/plain": [
              "1.959963984540054"
            ]
          },
          "metadata": {},
          "execution_count": 33
        }
      ]
    },
    {
      "cell_type": "markdown",
      "metadata": {
        "id": "sMYjXxiv-f_-"
      },
      "source": [
        "$$t_{\\alpha/2} = -1,96$$$$t_{1-\\alpha/2} = 1,96$$\n",
        "$$\n",
        "P \\left(\n",
        "    \\overline{X} - t_{1 - \\alpha / 2} \\cdot \\dfrac{\\sigma}{\\sqrt{n}}\n",
        "    \\leq a \\leq \n",
        "    \\overline{X} + t_{1 - \\alpha / 2} \\cdot \\dfrac{\\sigma}{\\sqrt{n}}\n",
        "\\right)\n",
        "$$\n",
        "$$t_{1 - \\alpha / 2} \\cdot \\dfrac{\\sigma}{\\sqrt{n}} = 1,96 \\cdot \\dfrac{16}{\\sqrt{256}} = 1,96 \\cdot \\dfrac{16}{16} = 1,96$$\n",
        "$$\n",
        "P \\left(\n",
        "    \\overline{X} - t_{1 - \\alpha / 2} \\cdot \\dfrac{\\sigma}{\\sqrt{n}}\n",
        "    \\leq a \\leq \n",
        "    \\overline{X} + t_{1 - \\alpha / 2} \\cdot \\dfrac{\\sigma}{\\sqrt{n}}\n",
        "\\right)\n",
        "= P \\left(80 - 1,96 \\leq a \\leq 80 + 1,96 \\right)\n",
        "= P \\left(78,04 \\leq a \\leq 81,96 \\right)\n",
        "$$\n",
        "Доверительный интервал$$P \\left(78,04 \\leq a \\leq 81,96 \\right)$$"
      ]
    },
    {
      "cell_type": "markdown",
      "metadata": {
        "id": "W3tIw1skIs2x"
      },
      "source": [
        "### **Задача 2**"
      ]
    },
    {
      "cell_type": "markdown",
      "metadata": {
        "id": "_S1dSEocIs2y"
      },
      "source": [
        "Продавец утверждает, что средний вес пачки печенья составляет 200 г. Из партии извлечена выборка из 10 пачек. Вес каждой пачки составляет:\n",
        "\n",
        "202, 203, 199, 197, 195, 201, 200, 204, 194, 190\n",
        "\n",
        "Известно, что их  веса распределены нормально.\n",
        "\n",
        "Верно ли утверждение продавца, если учитывать, что уровень значимости равен 1%?\n",
        "Найдите P-значение для данного теста."
      ]
    },
    {
      "cell_type": "markdown",
      "metadata": {
        "id": "Pa8T4wA3KOuV"
      },
      "source": [
        "## *Решение*"
      ]
    },
    {
      "cell_type": "code",
      "metadata": {
        "id": "tdhcgw21Is24"
      },
      "source": [
        "samples = np.array([202, 203, 199, 197, 195, 201, 200, 204, 194, 190])"
      ],
      "execution_count": 34,
      "outputs": []
    },
    {
      "cell_type": "markdown",
      "metadata": {
        "id": "V61fDXFp-_S4"
      },
      "source": [
        "\n",
        "Поскольку в задаче не указано, что распределение нормальное, то используем стьюдента.\n",
        "\n",
        "Нулевая гипотеза заключается в том, что математическое ожидание равно  μ=200\n",
        "Статистика:"
      ]
    },
    {
      "cell_type": "code",
      "metadata": {
        "id": "Vc_IFZJvsMN2",
        "colab": {
          "base_uri": "https://localhost:8080/"
        },
        "outputId": "40f3de51-1b07-41e3-e8a9-d91906f06b62"
      },
      "source": [
        "n = samples.shape[0]\n",
        "mean = samples.mean()\n",
        "std = samples.std(ddof=1)\n",
        "\n",
        "n, mean, std"
      ],
      "execution_count": 35,
      "outputs": [
        {
          "output_type": "execute_result",
          "data": {
            "text/plain": [
              "(10, 198.5, 4.453463071962462)"
            ]
          },
          "metadata": {},
          "execution_count": 35
        }
      ]
    },
    {
      "cell_type": "markdown",
      "metadata": {
        "id": "grnQMkFWsgCY"
      },
      "source": [
        "$$T(X) = \\dfrac{\\overline{X} - 200}{4,4535 / \\sqrt{10}}$$\n",
        "Уровень значимости $\\alpha = 0,01$ для двухсторонней критической области $\\Omega_\\alpha = (-\\infty, t_{\\alpha/2}) \\cup (t_{1 - \\alpha/2}, \\infty)$\n",
        "Определяем критическую область $\\Omega_\\alpha$"
      ]
    },
    {
      "cell_type": "code",
      "metadata": {
        "id": "-K-IUJhHsjNC",
        "colab": {
          "base_uri": "https://localhost:8080/"
        },
        "outputId": "0b152403-6ae0-4a6b-ef3c-18d272005a80"
      },
      "source": [
        "alpha = 0.01\n",
        "t_l = stats.t.ppf(alpha / 2, df=n - 1)\n",
        "t_r = stats.t.ppf(1 - alpha / 2, df=n - 1)\n",
        "t_l, t_r"
      ],
      "execution_count": 36,
      "outputs": [
        {
          "output_type": "execute_result",
          "data": {
            "text/plain": [
              "(-3.24983554401537, 3.2498355440153697)"
            ]
          },
          "metadata": {},
          "execution_count": 36
        }
      ]
    },
    {
      "cell_type": "markdown",
      "metadata": {
        "id": "0wvAsFne_ZnO"
      },
      "source": [
        "\n",
        "$\\Omega_\\alpha = (-\\infty; -3,2498) \\cup (3,2498; \\infty)$\n",
        "Проводим статистический тест\n",
        "$$T(X) = \\dfrac{198,5 - 200}{4,4535 / \\sqrt{10}}$$"
      ]
    },
    {
      "cell_type": "code",
      "metadata": {
        "id": "laNTi__E_cno",
        "colab": {
          "base_uri": "https://localhost:8080/"
        },
        "outputId": "c5f56414-4702-40ff-fd6f-7fd71c1588c9"
      },
      "source": [
        "T_x = math.sqrt(n) * (mean - 200) / std\n",
        "T_x"
      ],
      "execution_count": 37,
      "outputs": [
        {
          "output_type": "execute_result",
          "data": {
            "text/plain": [
              "-1.0651074037450896"
            ]
          },
          "metadata": {},
          "execution_count": 37
        }
      ]
    },
    {
      "cell_type": "markdown",
      "metadata": {
        "id": "q7jy80Cm_gmq"
      },
      "source": [
        "$$T(X) = -1,0651$$\n",
        "\n",
        "\n",
        "-3,2498 &lt; T(X) = −1,0651 &lt; 3,2498 \n",
        "\n",
        "В принципе можно утверждать, что продавец не врет, данные нулевой гипотезе не противоречат."
      ]
    },
    {
      "cell_type": "markdown",
      "source": [
        "Теперь давайте найдём P-значение. Для двухсторонней области оно равно\n",
        "$$P = 2 \\cdot \\min (P_l, P_r),$$\n",
        "где $P_l = F_t(t)$, $P_r = 1 - F_t(t)$, а $F_t(x)$ — функция распределения нашей статистики. В нашем случае это t-распределение. Итак,"
      ],
      "metadata": {
        "id": "y4DNOR4E4Bde"
      }
    },
    {
      "cell_type": "code",
      "source": [
        "p_left = stats.t.cdf(T_x, df=n - 1)\n",
        "p_right = 1 - stats.t.cdf(T_x, df=n - 1)\n",
        "\n",
        "pvalue = 2 * min(p_left, p_right)\n",
        "\n",
        "p_left, p_right, pvalue"
      ],
      "metadata": {
        "colab": {
          "base_uri": "https://localhost:8080/"
        },
        "id": "Vb47xqOc4Es2",
        "outputId": "f5bef7f1-16a2-4251-b2a9-d5204c5d84b4"
      },
      "execution_count": 38,
      "outputs": [
        {
          "output_type": "execute_result",
          "data": {
            "text/plain": [
              "(0.15728330176236427, 0.8427166982376357, 0.31456660352472854)"
            ]
          },
          "metadata": {},
          "execution_count": 38
        }
      ]
    },
    {
      "cell_type": "markdown",
      "source": [
        "P-значение можно интерпретировать так: если уровень значимости меньше P-значения, то нулевую гипотезу можно принять. Видим, что в нашем случае это так."
      ],
      "metadata": {
        "id": "bOqkE26G4GhQ"
      }
    },
    {
      "cell_type": "markdown",
      "metadata": {
        "id": "sZdVG1flt8sq"
      },
      "source": [
        "### **Задача 3**"
      ]
    },
    {
      "cell_type": "markdown",
      "metadata": {
        "id": "4eJT37dCt9B8"
      },
      "source": [
        "Дана выборка диаметров подшипников из примера 1 с занятия 5:\n",
        "\n",
        "samples = [0.6603, 0.9466, 0.5968, 1.3792, 1.5481, 0.7515, 1.0681, 1.1134,\n",
        "1.2088, 1.701 , 1.0282, 1.3579, 1.0191, 1.1784, 1.1168, 1.1372,\n",
        "0.7273, 1.3958, 0.8665, 1.5112, 1.161 , 1.0232, 1.0865, 1.02 ]\n",
        "\n",
        "Предполагая, что диаметры подшипников распределены нормально, проверьте гипотезу о том, что дисперсия случайной величины равна 0.0625 при уровне значимости alpha = 0.05. Что для этого нужно знать:\n",
        "1. Альтернативная гипотеза двухсторонняя.\n",
        "2. Статистика для теста: H = (n - 1) * sample_variance / variance, где n - число элементов в выборке, sample_variance - несмещённая оценка дисперсии, variance - утверждаемая нулевой гипотезой дисперсия.\n",
        "3. Эта статистика в предположении верности нулевой гипотезы имеет распределение хи-квадрат с параметром df = n - 1. Её квантили можно найти с помощью функции scipy.stats.chi2.ppf."
      ]
    },
    {
      "cell_type": "markdown",
      "metadata": {
        "id": "RQReFR6NKTRo"
      },
      "source": [
        "## *Решение*"
      ]
    },
    {
      "cell_type": "markdown",
      "metadata": {
        "id": "4vaEeib_Es6A"
      },
      "source": [
        "__Решение__\n",
        "\n",
        "Итак, проверяем гипотезу о том, что дисперсия равна $\\sigma ^ 2 = 0.0625$. Для этого рассматриваем статистику\n",
        "$$H = (n - 1) \\cdot \\dfrac{\\sigma_X ^ 2}{\\sigma ^ 2}$$\n",
        "\n",
        "В предположении верности нулевой гипотезы эта статистика имеет распределение $\\chi ^ 2$ с параметром $df = n - 1$."
      ]
    },
    {
      "cell_type": "code",
      "source": [
        "samples = np.array([0.6603, 0.9466, 0.5968, 1.3792, 1.5481, 0.7515, 1.0681, 1.1134,\n",
        "                    1.2088, 1.701 , 1.0282, 1.3579, 1.0191, 1.1784, 1.1168, 1.1372,\n",
        "                    0.7273, 1.3958, 0.8665, 1.5112, 1.161 , 1.0232, 1.0865, 1.02  ])"
      ],
      "metadata": {
        "id": "cIxuLpWo2318"
      },
      "execution_count": 39,
      "outputs": []
    },
    {
      "cell_type": "code",
      "source": [
        "n = samples.shape[0]\n",
        "sample_variance = samples.var(ddof=1)\n",
        "\n",
        "n, sample_variance"
      ],
      "metadata": {
        "colab": {
          "base_uri": "https://localhost:8080/"
        },
        "id": "XSHtrk7G24JQ",
        "outputId": "5cb537f7-ef94-4755-8d33-09deb97bb913"
      },
      "execution_count": 40,
      "outputs": [
        {
          "output_type": "execute_result",
          "data": {
            "text/plain": [
              "(24, 0.07804495041666669)"
            ]
          },
          "metadata": {},
          "execution_count": 40
        }
      ]
    },
    {
      "cell_type": "markdown",
      "source": [
        "Для уровня значимости $\\alpha = 0.05$ найдём границы критической области:"
      ],
      "metadata": {
        "id": "s9-I_fJa28SM"
      }
    },
    {
      "cell_type": "code",
      "source": [
        "alpha = 0.05\n",
        "\n",
        "t1 = stats.chi2.ppf(alpha / 2, df=n - 1)\n",
        "t2 = stats.chi2.ppf(1 - alpha / 2, df=n - 1)\n",
        "\n",
        "t1, t2"
      ],
      "metadata": {
        "colab": {
          "base_uri": "https://localhost:8080/"
        },
        "id": "1AdbZ7XR2-ir",
        "outputId": "37d2995c-66d1-4994-a5fa-ce7d001fe7f6"
      },
      "execution_count": 41,
      "outputs": [
        {
          "output_type": "execute_result",
          "data": {
            "text/plain": [
              "(11.688551922452438, 38.0756272503558)"
            ]
          },
          "metadata": {},
          "execution_count": 41
        }
      ]
    },
    {
      "cell_type": "markdown",
      "source": [
        "Итак, критическая область в нашем случае:\n",
        "$$\\Omega_\\alpha = \\left( -\\infty, 11.6886 \\right) \\cup \\left( 38.0756, \\infty \\right)$$"
      ],
      "metadata": {
        "id": "8vinI9No3Adm"
      }
    },
    {
      "cell_type": "code",
      "source": [
        "from matplotlib import pyplot as plt\n",
        "\n",
        "plt.style.use('seaborn-whitegrid')\n",
        "%config InlineBackend.figure_formats = ['svg']"
      ],
      "metadata": {
        "id": "yFg1llv43DaV"
      },
      "execution_count": 42,
      "outputs": []
    },
    {
      "cell_type": "code",
      "source": [
        "ox = np.linspace(0, 70, 500)\n",
        "oy = stats.chi2.pdf(ox, df=n - 1)\n",
        "\n",
        "ox_left = np.linspace(0, t1, 100)\n",
        "oy_left = stats.chi2.pdf(ox_left, df=n - 1)\n",
        "\n",
        "ox_right = np.linspace(t2, 70, 100)\n",
        "oy_right = stats.chi2.pdf(ox_right, df=n - 1)\n",
        "\n",
        "plt.plot(ox, oy)\n",
        "plt.fill_between(ox_left, oy_left, alpha=0.5, color='C0')\n",
        "plt.fill_between(ox_right, oy_right, alpha=0.5, color='C0')"
      ],
      "metadata": {
        "colab": {
          "base_uri": "https://localhost:8080/",
          "height": 365
        },
        "id": "dTXXKPb23Fev",
        "outputId": "35f97742-a4b6-41b6-946a-fd1ed4ad8f6a"
      },
      "execution_count": 43,
      "outputs": [
        {
          "output_type": "execute_result",
          "data": {
            "text/plain": [
              "<matplotlib.collections.PolyCollection at 0x7faccc3de910>"
            ]
          },
          "metadata": {},
          "execution_count": 43
        },
        {
          "output_type": "display_data",
          "data": {
            "text/plain": [
              "<Figure size 432x288 with 1 Axes>"
            ],
            "image/svg+xml": "<?xml version=\"1.0\" encoding=\"utf-8\" standalone=\"no\"?>\n<!DOCTYPE svg PUBLIC \"-//W3C//DTD SVG 1.1//EN\"\n  \"http://www.w3.org/Graphics/SVG/1.1/DTD/svg11.dtd\">\n<!-- Created with matplotlib (https://matplotlib.org/) -->\n<svg height=\"244.661875pt\" version=\"1.1\" viewBox=\"0 0 372.160937 244.661875\" width=\"372.160937pt\" xmlns=\"http://www.w3.org/2000/svg\" xmlns:xlink=\"http://www.w3.org/1999/xlink\">\n <defs>\n  <style type=\"text/css\">\n*{stroke-linecap:butt;stroke-linejoin:round;}\n  </style>\n </defs>\n <g id=\"figure_1\">\n  <g id=\"patch_1\">\n   <path d=\"M 0 244.661875 \nL 372.160937 244.661875 \nL 372.160937 0 \nL 0 0 \nz\n\" style=\"fill:#ffffff;\"/>\n  </g>\n  <g id=\"axes_1\">\n   <g id=\"patch_2\">\n    <path d=\"M 30.160938 224.64 \nL 364.960938 224.64 \nL 364.960938 7.2 \nL 30.160938 7.2 \nz\n\" style=\"fill:#ffffff;\"/>\n   </g>\n   <g id=\"matplotlib.axis_1\">\n    <g id=\"xtick_1\">\n     <g id=\"line2d_1\">\n      <path clip-path=\"url(#p526dc2c83c)\" d=\"M 45.379119 224.64 \nL 45.379119 7.2 \n\" style=\"fill:none;stroke:#cccccc;stroke-linecap:round;stroke-width:0.8;\"/>\n     </g>\n     <g id=\"line2d_2\"/>\n     <g id=\"text_1\">\n      <!-- 0 -->\n      <defs>\n       <path d=\"M 51.703125 34.421875 \nQ 51.703125 24.515625 49.828125 17.75 \nQ 47.953125 10.984375 44.703125 6.8125 \nQ 41.453125 2.640625 37.0625 0.828125 \nQ 32.671875 -0.984375 27.6875 -0.984375 \nQ 22.65625 -0.984375 18.3125 0.828125 \nQ 13.96875 2.640625 10.765625 6.78125 \nQ 7.5625 10.9375 5.734375 17.703125 \nQ 3.90625 24.46875 3.90625 34.421875 \nQ 3.90625 44.828125 5.734375 51.640625 \nQ 7.5625 58.453125 10.78125 62.5 \nQ 14.015625 66.546875 18.40625 68.1875 \nQ 22.796875 69.828125 27.984375 69.828125 \nQ 32.90625 69.828125 37.21875 68.1875 \nQ 41.546875 66.546875 44.765625 62.5 \nQ 48 58.453125 49.84375 51.640625 \nQ 51.703125 44.828125 51.703125 34.421875 \nz\nM 42.78125 34.421875 \nQ 42.78125 42.625 41.796875 48.0625 \nQ 40.828125 53.515625 38.921875 56.765625 \nQ 37.015625 60.015625 34.25 61.359375 \nQ 31.5 62.703125 27.984375 62.703125 \nQ 24.265625 62.703125 21.4375 61.328125 \nQ 18.609375 59.96875 16.671875 56.71875 \nQ 14.75 53.46875 13.765625 48.015625 \nQ 12.796875 42.578125 12.796875 34.421875 \nQ 12.796875 26.515625 13.796875 21.09375 \nQ 14.796875 15.671875 16.71875 12.375 \nQ 18.65625 9.078125 21.4375 7.640625 \nQ 24.21875 6.203125 27.78125 6.203125 \nQ 31.25 6.203125 34.03125 7.640625 \nQ 36.8125 9.078125 38.734375 12.375 \nQ 40.671875 15.671875 41.71875 21.09375 \nQ 42.78125 26.515625 42.78125 34.421875 \nz\n\" id=\"LiberationSans-48\"/>\n      </defs>\n      <g style=\"fill:#262626;\" transform=\"translate(42.598651 235.386875)scale(0.1 -0.1)\">\n       <use xlink:href=\"#LiberationSans-48\"/>\n      </g>\n     </g>\n    </g>\n    <g id=\"xtick_2\">\n     <g id=\"line2d_3\">\n      <path clip-path=\"url(#p526dc2c83c)\" d=\"M 88.859639 224.64 \nL 88.859639 7.2 \n\" style=\"fill:none;stroke:#cccccc;stroke-linecap:round;stroke-width:0.8;\"/>\n     </g>\n     <g id=\"line2d_4\"/>\n     <g id=\"text_2\">\n      <!-- 10 -->\n      <defs>\n       <path d=\"M 7.625 0 \nL 7.625 7.46875 \nL 25.140625 7.46875 \nL 25.140625 60.40625 \nL 9.625 49.3125 \nL 9.625 57.625 \nL 25.875 68.796875 \nL 33.984375 68.796875 \nL 33.984375 7.46875 \nL 50.734375 7.46875 \nL 50.734375 0 \nz\n\" id=\"LiberationSans-49\"/>\n      </defs>\n      <g style=\"fill:#262626;\" transform=\"translate(83.298701 235.386875)scale(0.1 -0.1)\">\n       <use xlink:href=\"#LiberationSans-49\"/>\n       <use x=\"55.615234\" xlink:href=\"#LiberationSans-48\"/>\n      </g>\n     </g>\n    </g>\n    <g id=\"xtick_3\">\n     <g id=\"line2d_5\">\n      <path clip-path=\"url(#p526dc2c83c)\" d=\"M 132.340158 224.64 \nL 132.340158 7.2 \n\" style=\"fill:none;stroke:#cccccc;stroke-linecap:round;stroke-width:0.8;\"/>\n     </g>\n     <g id=\"line2d_6\"/>\n     <g id=\"text_3\">\n      <!-- 20 -->\n      <defs>\n       <path d=\"M 5.03125 0 \nL 5.03125 6.203125 \nQ 7.515625 11.921875 11.109375 16.28125 \nQ 14.703125 20.65625 18.65625 24.1875 \nQ 22.609375 27.734375 26.484375 30.765625 \nQ 30.375 33.796875 33.5 36.8125 \nQ 36.625 39.84375 38.546875 43.15625 \nQ 40.484375 46.484375 40.484375 50.6875 \nQ 40.484375 53.609375 39.59375 55.828125 \nQ 38.71875 58.0625 37.0625 59.5625 \nQ 35.40625 61.078125 33.078125 61.828125 \nQ 30.765625 62.59375 27.9375 62.59375 \nQ 25.296875 62.59375 22.96875 61.859375 \nQ 20.65625 61.140625 18.84375 59.671875 \nQ 17.046875 58.203125 15.890625 56.03125 \nQ 14.75 53.859375 14.40625 50.984375 \nL 5.421875 51.8125 \nQ 5.859375 55.515625 7.46875 58.78125 \nQ 9.078125 62.0625 11.90625 64.53125 \nQ 14.75 67 18.71875 68.40625 \nQ 22.703125 69.828125 27.9375 69.828125 \nQ 33.0625 69.828125 37.0625 68.609375 \nQ 41.0625 67.390625 43.8125 64.984375 \nQ 46.578125 62.59375 48.046875 59.078125 \nQ 49.515625 55.5625 49.515625 50.984375 \nQ 49.515625 47.515625 48.265625 44.390625 \nQ 47.015625 41.265625 44.9375 38.421875 \nQ 42.875 35.59375 40.140625 32.953125 \nQ 37.40625 30.328125 34.421875 27.8125 \nQ 31.453125 25.296875 28.421875 22.828125 \nQ 25.390625 20.359375 22.71875 17.859375 \nQ 20.0625 15.375 17.96875 12.8125 \nQ 15.875 10.25 14.703125 7.46875 \nL 50.59375 7.46875 \nL 50.59375 0 \nz\n\" id=\"LiberationSans-50\"/>\n      </defs>\n      <g style=\"fill:#262626;\" transform=\"translate(126.779221 235.386875)scale(0.1 -0.1)\">\n       <use xlink:href=\"#LiberationSans-50\"/>\n       <use x=\"55.615234\" xlink:href=\"#LiberationSans-48\"/>\n      </g>\n     </g>\n    </g>\n    <g id=\"xtick_4\">\n     <g id=\"line2d_7\">\n      <path clip-path=\"url(#p526dc2c83c)\" d=\"M 175.820678 224.64 \nL 175.820678 7.2 \n\" style=\"fill:none;stroke:#cccccc;stroke-linecap:round;stroke-width:0.8;\"/>\n     </g>\n     <g id=\"line2d_8\"/>\n     <g id=\"text_4\">\n      <!-- 30 -->\n      <defs>\n       <path d=\"M 51.21875 19 \nQ 51.21875 14.265625 49.671875 10.546875 \nQ 48.140625 6.84375 45.1875 4.265625 \nQ 42.234375 1.703125 37.859375 0.359375 \nQ 33.5 -0.984375 27.875 -0.984375 \nQ 21.484375 -0.984375 17.109375 0.609375 \nQ 12.75 2.203125 9.90625 4.8125 \nQ 7.078125 7.421875 5.65625 10.765625 \nQ 4.25 14.109375 3.8125 17.671875 \nL 12.890625 18.5 \nQ 13.28125 15.765625 14.328125 13.515625 \nQ 15.375 11.28125 17.1875 9.671875 \nQ 19 8.0625 21.625 7.171875 \nQ 24.265625 6.296875 27.875 6.296875 \nQ 34.515625 6.296875 38.296875 9.5625 \nQ 42.09375 12.84375 42.09375 19.28125 \nQ 42.09375 23.09375 40.40625 25.40625 \nQ 38.71875 27.734375 36.203125 29.03125 \nQ 33.6875 30.328125 30.734375 30.765625 \nQ 27.78125 31.203125 25.296875 31.203125 \nL 20.3125 31.203125 \nL 20.3125 38.8125 \nL 25.09375 38.8125 \nQ 27.59375 38.8125 30.265625 39.328125 \nQ 32.953125 39.84375 35.171875 41.1875 \nQ 37.40625 42.53125 38.84375 44.828125 \nQ 40.28125 47.125 40.28125 50.6875 \nQ 40.28125 56.203125 37.03125 59.390625 \nQ 33.796875 62.59375 27.390625 62.59375 \nQ 21.578125 62.59375 17.984375 59.609375 \nQ 14.40625 56.640625 13.8125 51.21875 \nL 4.984375 51.90625 \nQ 5.515625 56.453125 7.46875 59.8125 \nQ 9.421875 63.1875 12.421875 65.40625 \nQ 15.4375 67.625 19.28125 68.71875 \nQ 23.140625 69.828125 27.484375 69.828125 \nQ 33.25 69.828125 37.390625 68.375 \nQ 41.546875 66.9375 44.1875 64.46875 \nQ 46.828125 62.015625 48.0625 58.6875 \nQ 49.3125 55.375 49.3125 51.609375 \nQ 49.3125 48.578125 48.484375 45.9375 \nQ 47.65625 43.3125 45.890625 41.203125 \nQ 44.140625 39.109375 41.421875 37.59375 \nQ 38.71875 36.078125 34.90625 35.296875 \nL 34.90625 35.109375 \nQ 39.0625 34.671875 42.140625 33.21875 \nQ 45.21875 31.78125 47.21875 29.625 \nQ 49.21875 27.484375 50.21875 24.75 \nQ 51.21875 22.015625 51.21875 19 \nz\n\" id=\"LiberationSans-51\"/>\n      </defs>\n      <g style=\"fill:#262626;\" transform=\"translate(170.25974 235.386875)scale(0.1 -0.1)\">\n       <use xlink:href=\"#LiberationSans-51\"/>\n       <use x=\"55.615234\" xlink:href=\"#LiberationSans-48\"/>\n      </g>\n     </g>\n    </g>\n    <g id=\"xtick_5\">\n     <g id=\"line2d_9\">\n      <path clip-path=\"url(#p526dc2c83c)\" d=\"M 219.301197 224.64 \nL 219.301197 7.2 \n\" style=\"fill:none;stroke:#cccccc;stroke-linecap:round;stroke-width:0.8;\"/>\n     </g>\n     <g id=\"line2d_10\"/>\n     <g id=\"text_5\">\n      <!-- 40 -->\n      <defs>\n       <path d=\"M 43.015625 15.578125 \nL 43.015625 0 \nL 34.71875 0 \nL 34.71875 15.578125 \nL 2.296875 15.578125 \nL 2.296875 22.40625 \nL 33.796875 68.796875 \nL 43.015625 68.796875 \nL 43.015625 22.515625 \nL 52.6875 22.515625 \nL 52.6875 15.578125 \nz\nM 34.71875 58.890625 \nQ 34.625 58.640625 34.234375 57.9375 \nQ 33.84375 57.234375 33.34375 56.34375 \nQ 32.859375 55.46875 32.34375 54.5625 \nQ 31.84375 53.65625 31.453125 53.078125 \nL 13.8125 27.09375 \nQ 13.578125 26.703125 13.109375 26.0625 \nQ 12.640625 25.4375 12.15625 24.78125 \nQ 11.671875 24.125 11.171875 23.484375 \nQ 10.6875 22.859375 10.40625 22.515625 \nL 34.71875 22.515625 \nz\n\" id=\"LiberationSans-52\"/>\n      </defs>\n      <g style=\"fill:#262626;\" transform=\"translate(213.74026 235.386875)scale(0.1 -0.1)\">\n       <use xlink:href=\"#LiberationSans-52\"/>\n       <use x=\"55.615234\" xlink:href=\"#LiberationSans-48\"/>\n      </g>\n     </g>\n    </g>\n    <g id=\"xtick_6\">\n     <g id=\"line2d_11\">\n      <path clip-path=\"url(#p526dc2c83c)\" d=\"M 262.781717 224.64 \nL 262.781717 7.2 \n\" style=\"fill:none;stroke:#cccccc;stroke-linecap:round;stroke-width:0.8;\"/>\n     </g>\n     <g id=\"line2d_12\"/>\n     <g id=\"text_6\">\n      <!-- 50 -->\n      <defs>\n       <path d=\"M 51.421875 22.40625 \nQ 51.421875 17.234375 49.859375 12.9375 \nQ 48.296875 8.640625 45.21875 5.53125 \nQ 42.140625 2.4375 37.578125 0.71875 \nQ 33.015625 -0.984375 27 -0.984375 \nQ 21.578125 -0.984375 17.546875 0.28125 \nQ 13.53125 1.5625 10.734375 3.78125 \nQ 7.953125 6 6.3125 8.984375 \nQ 4.6875 11.96875 4 15.375 \nL 12.890625 16.40625 \nQ 13.421875 14.453125 14.390625 12.625 \nQ 15.375 10.796875 17.0625 9.34375 \nQ 18.75 7.90625 21.21875 7.046875 \nQ 23.6875 6.203125 27.203125 6.203125 \nQ 30.609375 6.203125 33.390625 7.25 \nQ 36.1875 8.296875 38.15625 10.34375 \nQ 40.140625 12.40625 41.203125 15.375 \nQ 42.28125 18.359375 42.28125 22.21875 \nQ 42.28125 25.390625 41.25 28.046875 \nQ 40.234375 30.71875 38.328125 32.640625 \nQ 36.421875 34.578125 33.65625 35.640625 \nQ 30.90625 36.71875 27.390625 36.71875 \nQ 25.203125 36.71875 23.34375 36.328125 \nQ 21.484375 35.9375 19.890625 35.25 \nQ 18.3125 34.578125 17.015625 33.671875 \nQ 15.71875 32.765625 14.59375 31.78125 \nL 6 31.78125 \nL 8.296875 68.796875 \nL 47.40625 68.796875 \nL 47.40625 61.328125 \nL 16.3125 61.328125 \nL 14.984375 39.5 \nQ 17.328125 41.3125 20.84375 42.59375 \nQ 24.359375 43.890625 29.203125 43.890625 \nQ 34.328125 43.890625 38.421875 42.328125 \nQ 42.53125 40.765625 45.40625 37.90625 \nQ 48.296875 35.0625 49.859375 31.109375 \nQ 51.421875 27.15625 51.421875 22.40625 \nz\n\" id=\"LiberationSans-53\"/>\n      </defs>\n      <g style=\"fill:#262626;\" transform=\"translate(257.220779 235.386875)scale(0.1 -0.1)\">\n       <use xlink:href=\"#LiberationSans-53\"/>\n       <use x=\"55.615234\" xlink:href=\"#LiberationSans-48\"/>\n      </g>\n     </g>\n    </g>\n    <g id=\"xtick_7\">\n     <g id=\"line2d_13\">\n      <path clip-path=\"url(#p526dc2c83c)\" d=\"M 306.262236 224.64 \nL 306.262236 7.2 \n\" style=\"fill:none;stroke:#cccccc;stroke-linecap:round;stroke-width:0.8;\"/>\n     </g>\n     <g id=\"line2d_14\"/>\n     <g id=\"text_7\">\n      <!-- 60 -->\n      <defs>\n       <path d=\"M 51.21875 22.515625 \nQ 51.21875 17.328125 49.78125 13 \nQ 48.34375 8.6875 45.53125 5.578125 \nQ 42.71875 2.484375 38.5625 0.75 \nQ 34.421875 -0.984375 29 -0.984375 \nQ 23 -0.984375 18.5 1.3125 \nQ 14.015625 3.609375 11.03125 7.921875 \nQ 8.0625 12.25 6.5625 18.53125 \nQ 5.078125 24.8125 5.078125 32.8125 \nQ 5.078125 42 6.765625 48.921875 \nQ 8.453125 55.859375 11.625 60.5 \nQ 14.796875 65.140625 19.359375 67.484375 \nQ 23.921875 69.828125 29.6875 69.828125 \nQ 33.203125 69.828125 36.28125 69.09375 \nQ 39.359375 68.359375 41.875 66.71875 \nQ 44.390625 65.09375 46.28125 62.40625 \nQ 48.1875 59.71875 49.3125 55.8125 \nL 40.921875 54.296875 \nQ 39.546875 58.734375 36.546875 60.71875 \nQ 33.546875 62.703125 29.59375 62.703125 \nQ 25.984375 62.703125 23.046875 60.984375 \nQ 20.125 59.28125 18.0625 55.875 \nQ 16.015625 52.484375 14.90625 47.359375 \nQ 13.8125 42.234375 13.8125 35.40625 \nQ 16.21875 39.84375 20.5625 42.15625 \nQ 24.90625 44.484375 30.515625 44.484375 \nQ 35.203125 44.484375 39.015625 42.96875 \nQ 42.828125 41.453125 45.53125 38.59375 \nQ 48.25 35.75 49.734375 31.671875 \nQ 51.21875 27.59375 51.21875 22.515625 \nz\nM 42.28125 22.125 \nQ 42.28125 25.6875 41.40625 28.5625 \nQ 40.53125 31.453125 38.765625 33.46875 \nQ 37.015625 35.5 34.421875 36.59375 \nQ 31.84375 37.703125 28.421875 37.703125 \nQ 26.03125 37.703125 23.578125 36.984375 \nQ 21.140625 36.28125 19.15625 34.6875 \nQ 17.1875 33.109375 15.9375 30.515625 \nQ 14.703125 27.9375 14.703125 24.21875 \nQ 14.703125 20.40625 15.671875 17.109375 \nQ 16.65625 13.8125 18.484375 11.375 \nQ 20.3125 8.9375 22.890625 7.515625 \nQ 25.484375 6.109375 28.71875 6.109375 \nQ 31.890625 6.109375 34.40625 7.203125 \nQ 36.921875 8.296875 38.671875 10.375 \nQ 40.4375 12.453125 41.359375 15.421875 \nQ 42.28125 18.40625 42.28125 22.125 \nz\n\" id=\"LiberationSans-54\"/>\n      </defs>\n      <g style=\"fill:#262626;\" transform=\"translate(300.701299 235.386875)scale(0.1 -0.1)\">\n       <use xlink:href=\"#LiberationSans-54\"/>\n       <use x=\"55.615234\" xlink:href=\"#LiberationSans-48\"/>\n      </g>\n     </g>\n    </g>\n    <g id=\"xtick_8\">\n     <g id=\"line2d_15\">\n      <path clip-path=\"url(#p526dc2c83c)\" d=\"M 349.742756 224.64 \nL 349.742756 7.2 \n\" style=\"fill:none;stroke:#cccccc;stroke-linecap:round;stroke-width:0.8;\"/>\n     </g>\n     <g id=\"line2d_16\"/>\n     <g id=\"text_8\">\n      <!-- 70 -->\n      <defs>\n       <path d=\"M 50.59375 61.671875 \nQ 45.40625 53.765625 41.0625 46.453125 \nQ 36.71875 39.15625 33.59375 31.75 \nQ 30.46875 24.359375 28.734375 16.578125 \nQ 27 8.796875 27 0 \nL 17.828125 0 \nQ 17.828125 8.25 19.78125 16.1875 \nQ 21.734375 24.125 25.046875 31.765625 \nQ 28.375 39.40625 32.765625 46.78125 \nQ 37.15625 54.15625 42.09375 61.328125 \nL 5.125 61.328125 \nL 5.125 68.796875 \nL 50.59375 68.796875 \nz\n\" id=\"LiberationSans-55\"/>\n      </defs>\n      <g style=\"fill:#262626;\" transform=\"translate(344.181818 235.386875)scale(0.1 -0.1)\">\n       <use xlink:href=\"#LiberationSans-55\"/>\n       <use x=\"55.615234\" xlink:href=\"#LiberationSans-48\"/>\n      </g>\n     </g>\n    </g>\n   </g>\n   <g id=\"matplotlib.axis_2\">\n    <g id=\"ytick_1\">\n     <g id=\"line2d_17\">\n      <path clip-path=\"url(#p526dc2c83c)\" d=\"M 30.160938 214.756364 \nL 364.960938 214.756364 \n\" style=\"fill:none;stroke:#cccccc;stroke-linecap:round;stroke-width:0.8;\"/>\n     </g>\n     <g id=\"line2d_18\"/>\n     <g id=\"text_9\">\n      <!-- 0.00 -->\n      <defs>\n       <path d=\"M 9.125 0 \nL 9.125 10.6875 \nL 18.65625 10.6875 \nL 18.65625 0 \nz\n\" id=\"LiberationSans-46\"/>\n      </defs>\n      <g style=\"fill:#262626;\" transform=\"translate(7.2 218.379801)scale(0.1 -0.1)\">\n       <use xlink:href=\"#LiberationSans-48\"/>\n       <use x=\"55.615234\" xlink:href=\"#LiberationSans-46\"/>\n       <use x=\"83.398438\" xlink:href=\"#LiberationSans-48\"/>\n       <use x=\"139.013672\" xlink:href=\"#LiberationSans-48\"/>\n      </g>\n     </g>\n    </g>\n    <g id=\"ytick_2\">\n     <g id=\"line2d_19\">\n      <path clip-path=\"url(#p526dc2c83c)\" d=\"M 30.160938 182.388337 \nL 364.960938 182.388337 \n\" style=\"fill:none;stroke:#cccccc;stroke-linecap:round;stroke-width:0.8;\"/>\n     </g>\n     <g id=\"line2d_20\"/>\n     <g id=\"text_10\">\n      <!-- 0.01 -->\n      <g style=\"fill:#262626;\" transform=\"translate(7.2 186.011775)scale(0.1 -0.1)\">\n       <use xlink:href=\"#LiberationSans-48\"/>\n       <use x=\"55.615234\" xlink:href=\"#LiberationSans-46\"/>\n       <use x=\"83.398438\" xlink:href=\"#LiberationSans-48\"/>\n       <use x=\"139.013672\" xlink:href=\"#LiberationSans-49\"/>\n      </g>\n     </g>\n    </g>\n    <g id=\"ytick_3\">\n     <g id=\"line2d_21\">\n      <path clip-path=\"url(#p526dc2c83c)\" d=\"M 30.160938 150.020311 \nL 364.960938 150.020311 \n\" style=\"fill:none;stroke:#cccccc;stroke-linecap:round;stroke-width:0.8;\"/>\n     </g>\n     <g id=\"line2d_22\"/>\n     <g id=\"text_11\">\n      <!-- 0.02 -->\n      <g style=\"fill:#262626;\" transform=\"translate(7.2 153.643748)scale(0.1 -0.1)\">\n       <use xlink:href=\"#LiberationSans-48\"/>\n       <use x=\"55.615234\" xlink:href=\"#LiberationSans-46\"/>\n       <use x=\"83.398438\" xlink:href=\"#LiberationSans-48\"/>\n       <use x=\"139.013672\" xlink:href=\"#LiberationSans-50\"/>\n      </g>\n     </g>\n    </g>\n    <g id=\"ytick_4\">\n     <g id=\"line2d_23\">\n      <path clip-path=\"url(#p526dc2c83c)\" d=\"M 30.160938 117.652284 \nL 364.960938 117.652284 \n\" style=\"fill:none;stroke:#cccccc;stroke-linecap:round;stroke-width:0.8;\"/>\n     </g>\n     <g id=\"line2d_24\"/>\n     <g id=\"text_12\">\n      <!-- 0.03 -->\n      <g style=\"fill:#262626;\" transform=\"translate(7.2 121.275722)scale(0.1 -0.1)\">\n       <use xlink:href=\"#LiberationSans-48\"/>\n       <use x=\"55.615234\" xlink:href=\"#LiberationSans-46\"/>\n       <use x=\"83.398438\" xlink:href=\"#LiberationSans-48\"/>\n       <use x=\"139.013672\" xlink:href=\"#LiberationSans-51\"/>\n      </g>\n     </g>\n    </g>\n    <g id=\"ytick_5\">\n     <g id=\"line2d_25\">\n      <path clip-path=\"url(#p526dc2c83c)\" d=\"M 30.160938 85.284258 \nL 364.960938 85.284258 \n\" style=\"fill:none;stroke:#cccccc;stroke-linecap:round;stroke-width:0.8;\"/>\n     </g>\n     <g id=\"line2d_26\"/>\n     <g id=\"text_13\">\n      <!-- 0.04 -->\n      <g style=\"fill:#262626;\" transform=\"translate(7.2 88.907695)scale(0.1 -0.1)\">\n       <use xlink:href=\"#LiberationSans-48\"/>\n       <use x=\"55.615234\" xlink:href=\"#LiberationSans-46\"/>\n       <use x=\"83.398438\" xlink:href=\"#LiberationSans-48\"/>\n       <use x=\"139.013672\" xlink:href=\"#LiberationSans-52\"/>\n      </g>\n     </g>\n    </g>\n    <g id=\"ytick_6\">\n     <g id=\"line2d_27\">\n      <path clip-path=\"url(#p526dc2c83c)\" d=\"M 30.160938 52.916231 \nL 364.960938 52.916231 \n\" style=\"fill:none;stroke:#cccccc;stroke-linecap:round;stroke-width:0.8;\"/>\n     </g>\n     <g id=\"line2d_28\"/>\n     <g id=\"text_14\">\n      <!-- 0.05 -->\n      <g style=\"fill:#262626;\" transform=\"translate(7.2 56.539669)scale(0.1 -0.1)\">\n       <use xlink:href=\"#LiberationSans-48\"/>\n       <use x=\"55.615234\" xlink:href=\"#LiberationSans-46\"/>\n       <use x=\"83.398438\" xlink:href=\"#LiberationSans-48\"/>\n       <use x=\"139.013672\" xlink:href=\"#LiberationSans-53\"/>\n      </g>\n     </g>\n    </g>\n    <g id=\"ytick_7\">\n     <g id=\"line2d_29\">\n      <path clip-path=\"url(#p526dc2c83c)\" d=\"M 30.160938 20.548205 \nL 364.960938 20.548205 \n\" style=\"fill:none;stroke:#cccccc;stroke-linecap:round;stroke-width:0.8;\"/>\n     </g>\n     <g id=\"line2d_30\"/>\n     <g id=\"text_15\">\n      <!-- 0.06 -->\n      <g style=\"fill:#262626;\" transform=\"translate(7.2 24.171642)scale(0.1 -0.1)\">\n       <use xlink:href=\"#LiberationSans-48\"/>\n       <use x=\"55.615234\" xlink:href=\"#LiberationSans-46\"/>\n       <use x=\"83.398438\" xlink:href=\"#LiberationSans-48\"/>\n       <use x=\"139.013672\" xlink:href=\"#LiberationSans-54\"/>\n      </g>\n     </g>\n    </g>\n   </g>\n   <g id=\"PolyCollection_1\">\n    <defs>\n     <path d=\"M 45.379119 -29.905511 \nL 45.379119 -29.905511 \nL 45.892477 -29.905511 \nL 46.405835 -29.905511 \nL 46.919193 -29.905511 \nL 47.432551 -29.905511 \nL 47.945909 -29.905511 \nL 48.459267 -29.905511 \nL 48.972625 -29.905511 \nL 49.485982 -29.905511 \nL 49.99934 -29.905511 \nL 50.512698 -29.905512 \nL 51.026056 -29.905512 \nL 51.539414 -29.905513 \nL 52.052772 -29.905515 \nL 52.56613 -29.905519 \nL 53.079488 -29.905527 \nL 53.592846 -29.90554 \nL 54.106203 -29.905563 \nL 54.619561 -29.9056 \nL 55.132919 -29.905659 \nL 55.646277 -29.90575 \nL 56.159635 -29.905887 \nL 56.672993 -29.906089 \nL 57.186351 -29.906379 \nL 57.699709 -29.906791 \nL 58.213067 -29.907363 \nL 58.726424 -29.908146 \nL 59.239782 -29.909203 \nL 59.75314 -29.910609 \nL 60.266498 -29.912458 \nL 60.779856 -29.914859 \nL 61.293214 -29.917945 \nL 61.806572 -29.921869 \nL 62.31993 -29.926813 \nL 62.833288 -29.932985 \nL 63.346645 -29.940623 \nL 63.860003 -29.950003 \nL 64.373361 -29.961434 \nL 64.886719 -29.975263 \nL 65.400077 -29.991883 \nL 65.913435 -30.011726 \nL 66.426793 -30.035273 \nL 66.940151 -30.063053 \nL 67.453509 -30.095645 \nL 67.966866 -30.13368 \nL 68.480224 -30.177842 \nL 68.993582 -30.22887 \nL 69.50694 -30.287558 \nL 70.020298 -30.354758 \nL 70.533656 -30.431374 \nL 71.047014 -30.518371 \nL 71.560372 -30.616766 \nL 72.07373 -30.727632 \nL 72.587087 -30.852096 \nL 73.100445 -30.991336 \nL 73.613803 -31.146579 \nL 74.127161 -31.319103 \nL 74.640519 -31.510226 \nL 75.153877 -31.721311 \nL 75.667235 -31.953759 \nL 76.180593 -32.209003 \nL 76.693951 -32.488509 \nL 77.207308 -32.793768 \nL 77.720666 -33.126292 \nL 78.234024 -33.487608 \nL 78.747382 -33.879257 \nL 79.26074 -34.302784 \nL 79.774098 -34.759735 \nL 80.287456 -35.251649 \nL 80.800814 -35.780057 \nL 81.314172 -36.34647 \nL 81.827529 -36.952377 \nL 82.340887 -37.599239 \nL 82.854245 -38.288481 \nL 83.367603 -39.021487 \nL 83.880961 -39.799596 \nL 84.394319 -40.624094 \nL 84.907677 -41.496207 \nL 85.421035 -42.4171 \nL 85.934393 -43.387869 \nL 86.44775 -44.409535 \nL 86.961108 -45.483041 \nL 87.474466 -46.609247 \nL 87.987824 -47.788923 \nL 88.501182 -49.02275 \nL 89.01454 -50.311312 \nL 89.527898 -51.655093 \nL 90.041256 -53.054476 \nL 90.554614 -54.509739 \nL 91.067971 -56.021051 \nL 91.581329 -57.588472 \nL 92.094687 -59.211951 \nL 92.608045 -60.891324 \nL 93.121403 -62.626311 \nL 93.634761 -64.416521 \nL 94.148119 -66.261446 \nL 94.661477 -68.160463 \nL 95.174834 -70.112836 \nL 95.688192 -72.117715 \nL 96.20155 -74.174135 \nL 96.20155 -29.905511 \nL 96.20155 -29.905511 \nL 95.688192 -29.905511 \nL 95.174834 -29.905511 \nL 94.661477 -29.905511 \nL 94.148119 -29.905511 \nL 93.634761 -29.905511 \nL 93.121403 -29.905511 \nL 92.608045 -29.905511 \nL 92.094687 -29.905511 \nL 91.581329 -29.905511 \nL 91.067971 -29.905511 \nL 90.554614 -29.905511 \nL 90.041256 -29.905511 \nL 89.527898 -29.905511 \nL 89.01454 -29.905511 \nL 88.501182 -29.905511 \nL 87.987824 -29.905511 \nL 87.474466 -29.905511 \nL 86.961108 -29.905511 \nL 86.44775 -29.905511 \nL 85.934393 -29.905511 \nL 85.421035 -29.905511 \nL 84.907677 -29.905511 \nL 84.394319 -29.905511 \nL 83.880961 -29.905511 \nL 83.367603 -29.905511 \nL 82.854245 -29.905511 \nL 82.340887 -29.905511 \nL 81.827529 -29.905511 \nL 81.314172 -29.905511 \nL 80.800814 -29.905511 \nL 80.287456 -29.905511 \nL 79.774098 -29.905511 \nL 79.26074 -29.905511 \nL 78.747382 -29.905511 \nL 78.234024 -29.905511 \nL 77.720666 -29.905511 \nL 77.207308 -29.905511 \nL 76.693951 -29.905511 \nL 76.180593 -29.905511 \nL 75.667235 -29.905511 \nL 75.153877 -29.905511 \nL 74.640519 -29.905511 \nL 74.127161 -29.905511 \nL 73.613803 -29.905511 \nL 73.100445 -29.905511 \nL 72.587087 -29.905511 \nL 72.07373 -29.905511 \nL 71.560372 -29.905511 \nL 71.047014 -29.905511 \nL 70.533656 -29.905511 \nL 70.020298 -29.905511 \nL 69.50694 -29.905511 \nL 68.993582 -29.905511 \nL 68.480224 -29.905511 \nL 67.966866 -29.905511 \nL 67.453509 -29.905511 \nL 66.940151 -29.905511 \nL 66.426793 -29.905511 \nL 65.913435 -29.905511 \nL 65.400077 -29.905511 \nL 64.886719 -29.905511 \nL 64.373361 -29.905511 \nL 63.860003 -29.905511 \nL 63.346645 -29.905511 \nL 62.833288 -29.905511 \nL 62.31993 -29.905511 \nL 61.806572 -29.905511 \nL 61.293214 -29.905511 \nL 60.779856 -29.905511 \nL 60.266498 -29.905511 \nL 59.75314 -29.905511 \nL 59.239782 -29.905511 \nL 58.726424 -29.905511 \nL 58.213067 -29.905511 \nL 57.699709 -29.905511 \nL 57.186351 -29.905511 \nL 56.672993 -29.905511 \nL 56.159635 -29.905511 \nL 55.646277 -29.905511 \nL 55.132919 -29.905511 \nL 54.619561 -29.905511 \nL 54.106203 -29.905511 \nL 53.592846 -29.905511 \nL 53.079488 -29.905511 \nL 52.56613 -29.905511 \nL 52.052772 -29.905511 \nL 51.539414 -29.905511 \nL 51.026056 -29.905511 \nL 50.512698 -29.905511 \nL 49.99934 -29.905511 \nL 49.485982 -29.905511 \nL 48.972625 -29.905511 \nL 48.459267 -29.905511 \nL 47.945909 -29.905511 \nL 47.432551 -29.905511 \nL 46.919193 -29.905511 \nL 46.405835 -29.905511 \nL 45.892477 -29.905511 \nL 45.379119 -29.905511 \nz\n\" id=\"m737a669b71\" style=\"stroke:#1f77b4;stroke-opacity:0.5;\"/>\n    </defs>\n    <g clip-path=\"url(#p526dc2c83c)\">\n     <use style=\"fill:#1f77b4;fill-opacity:0.5;stroke:#1f77b4;stroke-opacity:0.5;\" x=\"0\" xlink:href=\"#m737a669b71\" y=\"244.661875\"/>\n    </g>\n   </g>\n   <g id=\"PolyCollection_2\">\n    <defs>\n     <path d=\"M 210.933925 -29.905511 \nL 210.933925 -49.928189 \nL 212.336034 -48.524519 \nL 213.738143 -47.206435 \nL 215.140253 -45.969958 \nL 216.542362 -44.81117 \nL 217.944472 -43.726228 \nL 219.346581 -42.711375 \nL 220.74869 -41.762953 \nL 222.1508 -40.877405 \nL 223.552909 -40.051288 \nL 224.955019 -39.281274 \nL 226.357128 -38.564156 \nL 227.759237 -37.89685 \nL 229.161347 -37.276396 \nL 230.563456 -36.69996 \nL 231.965566 -36.164836 \nL 233.367675 -35.668439 \nL 234.769784 -35.208311 \nL 236.171894 -34.782113 \nL 237.574003 -34.387627 \nL 238.976113 -34.022752 \nL 240.378222 -33.685497 \nL 241.780331 -33.373984 \nL 243.182441 -33.086441 \nL 244.58455 -32.821197 \nL 245.98666 -32.57668 \nL 247.388769 -32.351415 \nL 248.790879 -32.144014 \nL 250.192988 -31.953177 \nL 251.595097 -31.777689 \nL 252.997207 -31.616409 \nL 254.399316 -31.468274 \nL 255.801426 -31.332291 \nL 257.203535 -31.207534 \nL 258.605644 -31.093138 \nL 260.007754 -30.988302 \nL 261.409863 -30.892277 \nL 262.811973 -30.804371 \nL 264.214082 -30.723938 \nL 265.616191 -30.650382 \nL 267.018301 -30.583148 \nL 268.42041 -30.521724 \nL 269.82252 -30.465635 \nL 271.224629 -30.414443 \nL 272.626738 -30.367742 \nL 274.028848 -30.325159 \nL 275.430957 -30.286349 \nL 276.833067 -30.250993 \nL 278.235176 -30.218798 \nL 279.637285 -30.189496 \nL 281.039395 -30.162838 \nL 282.441504 -30.138595 \nL 283.843614 -30.116559 \nL 285.245723 -30.096536 \nL 286.647832 -30.078352 \nL 288.049942 -30.061843 \nL 289.452051 -30.046861 \nL 290.854161 -30.033271 \nL 292.25627 -30.020947 \nL 293.658379 -30.009778 \nL 295.060489 -29.999657 \nL 296.462598 -29.990491 \nL 297.864708 -29.982192 \nL 299.266817 -29.974681 \nL 300.668926 -29.967886 \nL 302.071036 -29.96174 \nL 303.473145 -29.956184 \nL 304.875255 -29.951163 \nL 306.277364 -29.946627 \nL 307.679474 -29.94253 \nL 309.081583 -29.938832 \nL 310.483692 -29.935494 \nL 311.885802 -29.932483 \nL 313.287911 -29.929767 \nL 314.690021 -29.927318 \nL 316.09213 -29.925111 \nL 317.494239 -29.923122 \nL 318.896349 -29.921331 \nL 320.298458 -29.919718 \nL 321.700568 -29.918266 \nL 323.102677 -29.916959 \nL 324.504786 -29.915783 \nL 325.906896 -29.914726 \nL 327.309005 -29.913775 \nL 328.711115 -29.912921 \nL 330.113224 -29.912153 \nL 331.515333 -29.911463 \nL 332.917443 -29.910844 \nL 334.319552 -29.910288 \nL 335.721662 -29.909788 \nL 337.123771 -29.90934 \nL 338.52588 -29.908938 \nL 339.92799 -29.908578 \nL 341.330099 -29.908255 \nL 342.732209 -29.907965 \nL 344.134318 -29.907705 \nL 345.536427 -29.907473 \nL 346.938537 -29.907264 \nL 348.340646 -29.907078 \nL 349.742756 -29.906911 \nL 349.742756 -29.905511 \nL 349.742756 -29.905511 \nL 348.340646 -29.905511 \nL 346.938537 -29.905511 \nL 345.536427 -29.905511 \nL 344.134318 -29.905511 \nL 342.732209 -29.905511 \nL 341.330099 -29.905511 \nL 339.92799 -29.905511 \nL 338.52588 -29.905511 \nL 337.123771 -29.905511 \nL 335.721662 -29.905511 \nL 334.319552 -29.905511 \nL 332.917443 -29.905511 \nL 331.515333 -29.905511 \nL 330.113224 -29.905511 \nL 328.711115 -29.905511 \nL 327.309005 -29.905511 \nL 325.906896 -29.905511 \nL 324.504786 -29.905511 \nL 323.102677 -29.905511 \nL 321.700568 -29.905511 \nL 320.298458 -29.905511 \nL 318.896349 -29.905511 \nL 317.494239 -29.905511 \nL 316.09213 -29.905511 \nL 314.690021 -29.905511 \nL 313.287911 -29.905511 \nL 311.885802 -29.905511 \nL 310.483692 -29.905511 \nL 309.081583 -29.905511 \nL 307.679474 -29.905511 \nL 306.277364 -29.905511 \nL 304.875255 -29.905511 \nL 303.473145 -29.905511 \nL 302.071036 -29.905511 \nL 300.668926 -29.905511 \nL 299.266817 -29.905511 \nL 297.864708 -29.905511 \nL 296.462598 -29.905511 \nL 295.060489 -29.905511 \nL 293.658379 -29.905511 \nL 292.25627 -29.905511 \nL 290.854161 -29.905511 \nL 289.452051 -29.905511 \nL 288.049942 -29.905511 \nL 286.647832 -29.905511 \nL 285.245723 -29.905511 \nL 283.843614 -29.905511 \nL 282.441504 -29.905511 \nL 281.039395 -29.905511 \nL 279.637285 -29.905511 \nL 278.235176 -29.905511 \nL 276.833067 -29.905511 \nL 275.430957 -29.905511 \nL 274.028848 -29.905511 \nL 272.626738 -29.905511 \nL 271.224629 -29.905511 \nL 269.82252 -29.905511 \nL 268.42041 -29.905511 \nL 267.018301 -29.905511 \nL 265.616191 -29.905511 \nL 264.214082 -29.905511 \nL 262.811973 -29.905511 \nL 261.409863 -29.905511 \nL 260.007754 -29.905511 \nL 258.605644 -29.905511 \nL 257.203535 -29.905511 \nL 255.801426 -29.905511 \nL 254.399316 -29.905511 \nL 252.997207 -29.905511 \nL 251.595097 -29.905511 \nL 250.192988 -29.905511 \nL 248.790879 -29.905511 \nL 247.388769 -29.905511 \nL 245.98666 -29.905511 \nL 244.58455 -29.905511 \nL 243.182441 -29.905511 \nL 241.780331 -29.905511 \nL 240.378222 -29.905511 \nL 238.976113 -29.905511 \nL 237.574003 -29.905511 \nL 236.171894 -29.905511 \nL 234.769784 -29.905511 \nL 233.367675 -29.905511 \nL 231.965566 -29.905511 \nL 230.563456 -29.905511 \nL 229.161347 -29.905511 \nL 227.759237 -29.905511 \nL 226.357128 -29.905511 \nL 224.955019 -29.905511 \nL 223.552909 -29.905511 \nL 222.1508 -29.905511 \nL 220.74869 -29.905511 \nL 219.346581 -29.905511 \nL 217.944472 -29.905511 \nL 216.542362 -29.905511 \nL 215.140253 -29.905511 \nL 213.738143 -29.905511 \nL 212.336034 -29.905511 \nL 210.933925 -29.905511 \nz\n\" id=\"mff22f963cb\" style=\"stroke:#1f77b4;stroke-opacity:0.5;\"/>\n    </defs>\n    <g clip-path=\"url(#p526dc2c83c)\">\n     <use style=\"fill:#1f77b4;fill-opacity:0.5;stroke:#1f77b4;stroke-opacity:0.5;\" x=\"0\" xlink:href=\"#mff22f963cb\" y=\"244.661875\"/>\n    </g>\n   </g>\n   <g id=\"line2d_31\">\n    <path clip-path=\"url(#p526dc2c83c)\" d=\"M 45.379119 214.756364 \nL 65.507376 214.666127 \nL 69.167059 214.414071 \nL 71.606848 214.035602 \nL 73.436689 213.570743 \nL 75.266531 212.891433 \nL 77.096372 211.93633 \nL 78.926214 210.638777 \nL 80.146108 209.549245 \nL 81.366002 208.256047 \nL 82.585897 206.739055 \nL 83.805791 204.979085 \nL 85.635632 201.845094 \nL 87.465474 198.072814 \nL 89.295315 193.622465 \nL 91.125157 188.468998 \nL 92.954998 182.604029 \nL 94.78484 176.037084 \nL 97.224629 166.240122 \nL 99.664417 155.363078 \nL 102.714153 140.50968 \nL 106.373836 121.416884 \nL 114.913096 76.366335 \nL 117.962832 61.80996 \nL 120.402621 51.280478 \nL 122.232462 44.165353 \nL 124.062304 37.797319 \nL 125.892145 32.231314 \nL 127.721987 27.508809 \nL 128.941881 24.843463 \nL 130.161776 22.570765 \nL 131.38167 20.693226 \nL 132.601564 19.210927 \nL 133.821459 18.121627 \nL 135.041353 17.420891 \nL 136.261247 17.102236 \nL 137.481142 17.157272 \nL 138.701036 17.575871 \nL 139.92093 18.346325 \nL 141.140825 19.455517 \nL 142.360719 20.889088 \nL 143.580613 22.631608 \nL 144.800508 24.666744 \nL 146.630349 28.230582 \nL 148.460191 32.354306 \nL 150.290032 36.976153 \nL 152.729821 43.805386 \nL 155.779557 53.206748 \nL 159.43924 65.391468 \nL 164.928764 84.605639 \nL 172.24813 110.071374 \nL 176.51776 124.059458 \nL 180.177443 135.261642 \nL 183.227179 143.953577 \nL 186.276915 152.018483 \nL 189.326651 159.437608 \nL 192.376387 166.208779 \nL 195.426122 172.343302 \nL 197.865911 176.806961 \nL 200.3057 180.892015 \nL 202.745488 184.615932 \nL 205.185277 187.997974 \nL 207.625066 191.058595 \nL 210.064854 193.818921 \nL 212.504643 196.300308 \nL 214.944432 198.523984 \nL 217.994168 200.972794 \nL 221.043903 203.090482 \nL 224.093639 204.914014 \nL 227.143375 206.47786 \nL 230.193111 207.813782 \nL 233.852794 209.156619 \nL 237.512477 210.257573 \nL 241.782107 211.28827 \nL 246.051737 212.096065 \nL 250.931315 212.802946 \nL 257.030786 213.439547 \nL 263.740205 213.911551 \nL 272.279465 214.282964 \nL 283.868462 214.545688 \nL 301.556929 214.697953 \nL 340.593548 214.753455 \nL 349.742756 214.754964 \nL 349.742756 214.754964 \n\" style=\"fill:none;stroke:#1f77b4;stroke-linecap:round;stroke-width:1.5;\"/>\n   </g>\n   <g id=\"patch_3\">\n    <path d=\"M 30.160938 224.64 \nL 30.160938 7.2 \n\" style=\"fill:none;stroke:#cccccc;stroke-linecap:square;stroke-linejoin:miter;\"/>\n   </g>\n   <g id=\"patch_4\">\n    <path d=\"M 364.960938 224.64 \nL 364.960938 7.2 \n\" style=\"fill:none;stroke:#cccccc;stroke-linecap:square;stroke-linejoin:miter;\"/>\n   </g>\n   <g id=\"patch_5\">\n    <path d=\"M 30.160938 224.64 \nL 364.960938 224.64 \n\" style=\"fill:none;stroke:#cccccc;stroke-linecap:square;stroke-linejoin:miter;\"/>\n   </g>\n   <g id=\"patch_6\">\n    <path d=\"M 30.160938 7.2 \nL 364.960938 7.2 \n\" style=\"fill:none;stroke:#cccccc;stroke-linecap:square;stroke-linejoin:miter;\"/>\n   </g>\n  </g>\n </g>\n <defs>\n  <clipPath id=\"p526dc2c83c\">\n   <rect height=\"217.44\" width=\"334.8\" x=\"30.160938\" y=\"7.2\"/>\n  </clipPath>\n </defs>\n</svg>\n"
          },
          "metadata": {}
        }
      ]
    },
    {
      "cell_type": "markdown",
      "source": [
        "Вычисляем значение статистики и проводим тест:"
      ],
      "metadata": {
        "id": "Nad8F07N3H2W"
      }
    },
    {
      "cell_type": "code",
      "source": [
        "variance = 0.0625\n",
        "\n",
        "H = (n - 1) * sample_variance / variance\n",
        "H"
      ],
      "metadata": {
        "colab": {
          "base_uri": "https://localhost:8080/"
        },
        "id": "pEIhwlEs3Lfj",
        "outputId": "1dc3ca8e-f387-4b5c-f00b-90e5957f1100"
      },
      "execution_count": 44,
      "outputs": [
        {
          "output_type": "execute_result",
          "data": {
            "text/plain": [
              "28.720541753333343"
            ]
          },
          "metadata": {},
          "execution_count": 44
        }
      ]
    },
    {
      "cell_type": "markdown",
      "source": [
        "Значение не попало в критическую область, гипотезу принимаем."
      ],
      "metadata": {
        "id": "nokuloE03KKu"
      }
    }
  ]
}