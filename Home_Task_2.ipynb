{
 "cells": [
  {
   "cell_type": "code",
   "execution_count": 66,
   "id": "6778bc8a",
   "metadata": {},
   "outputs": [],
   "source": [
    "import numpy as np\n",
    "import pandas as pd\n",
    "from math import factorial\n",
    "def comb(n, k):\n",
    "    return np.math.factorial(n) // (np.math.factorial(k) * np.math.factorial(n - k))"
   ]
  },
  {
   "cell_type": "code",
   "execution_count": 184,
   "id": "1f9fc52e",
   "metadata": {},
   "outputs": [
    {
     "name": "stdout",
     "output_type": "stream",
     "text": [
      "Правильных ответов: 0; Вероятность такого исхода:0.2373046875\n",
      "Правильных ответов: 1; Вероятность такого исхода:0.3955078125\n",
      "Правильных ответов: 2; Вероятность такого исхода:0.263671875\n",
      "Правильных ответов: 3; Вероятность такого исхода:0.087890625\n",
      "Правильных ответов: 4; Вероятность такого исхода:0.0146484375\n",
      "Правильных ответов: 5; Вероятность такого исхода:0.0009765625\n",
      "Математическое ожидание: 1.25\n",
      "Дисперсия: 0.9375\n"
     ]
    }
   ],
   "source": [
    "#Задача 1 и 2\n",
    "\"\"\"Контрольная работа состоит из пяти вопросов. \n",
    "На каждый вопрос приведено четыре варианта ответа, один из которых правильный. \n",
    "Случайная величина X задаёт число правильных ответов при простом угадывании. \n",
    "Найдите математическое ожидание данной случайной величины. \n",
    "Найдите дисперсию случайной величины X.\n",
    "Подсказка: постройте закон распределения случайной величины X.\"\"\"\n",
    "p = 0.25 #Вероятность угадать правильный вариант ответа в вопросе\n",
    "x = np.arange (0, 6) #Число правильных ответов при простом угадывании\n",
    "p_list = [] #Список вероятностей\n",
    "n = 5\n",
    "kontrol = 0\n",
    "for k in range(6):\n",
    "    pk = comb(n,k) * (p ** k) * ((1 - p) ** (n - k))\n",
    "    p_list.append(pk)\n",
    "    print(f'Правильных ответов: {x[k]}; Вероятность такого исхода:{pk}')\n",
    "m_x = x.dot(p_list) #скалярное произведение массивов\n",
    "print (f'Математическое ожидание: {m_x}')\n",
    "d_x = ((x - m_x) ** 2).dot(p_list)\n",
    "print(f'Дисперсия: {d_x}')"
   ]
  },
  {
   "cell_type": "code",
   "execution_count": 161,
   "id": "2232288a",
   "metadata": {},
   "outputs": [
    {
     "name": "stdout",
     "output_type": "stream",
     "text": [
      "Количество писем: 14\n",
      "Проверка вероятности: 0.95\n"
     ]
    }
   ],
   "source": [
    "#Задание №3\n",
    "\"\"\"\n",
    "Пользователь получает в среднем 10 писем со спамом на свой почтовый ящик за сутки. \n",
    "Найти число N, такое, что с вероятностью 0.95 пользователь получит не более N писем со спамом за текущий день.\"\"\"\n",
    "def poisson_proba(k: int, lambda_: float) -> float:\n",
    "    \"\"\"Формула Пуассона.\n",
    "    \"\"\"   \n",
    "    return (lambda_ ** k) * (np.exp(-lambda_)) / np.math.factorial(k)\n",
    "lambda_ = 10\n",
    "k = 0\n",
    "sum = 0\n",
    "while True: #Будем подбирать число писем пока значение вероятности не превысит 0,95\n",
    "    k = k + 1\n",
    "    sum = sum + poisson_proba(k, lambda_ = lambda_)\n",
    "    if sum > 0.95:\n",
    "        k = k - 1\n",
    "        break\n",
    "print(f\"Количество писем: {k}\")\n",
    "print (f\"Проверка вероятности: {round(1-poisson_proba(k = 14, lambda_ = lambda_), 2)}\")"
   ]
  },
  {
   "cell_type": "code",
   "execution_count": 236,
   "id": "4ed482d5",
   "metadata": {},
   "outputs": [
    {
     "name": "stdout",
     "output_type": "stream",
     "text": [
      "Необходимо выстрелов: 1051, при вероятности равной: 0.9000321175067163\n"
     ]
    }
   ],
   "source": [
    "\"\"\"Производятся выстрелы по мишени. \n",
    "Вероятность попадания в мишень при одном выстреле равна 0.01. \n",
    "Сколько выстрелов нужно сделать чтобы быть уверенным с вероятностью 0.9, что хотя бы 6 раз будет совершено попадание?\n",
    "Подсказка: 1) \"Вероятность попасть k раз при n выстрелах\" - на какое распределение это похоже? \n",
    "2) А если нам нужна вероятность P(X >= k), а не P(X = k)? 3) Здесь предстоит немножко покодить.\n",
    "\"\"\"\n",
    "def bernoull(n, k, p):\n",
    "    return comb(n,k) * (p ** k) * ((1-p) ** (n - k))\n",
    "p = 0.01 #Вероятность попадания в мишень\n",
    "x = 6 #Необходимо попаданий в мишень\n",
    "#n = 6 #\n",
    "n = 6\n",
    "p_list = []\n",
    "p_sum_list = 0\n",
    "while True:\n",
    "    p_list = []\n",
    "    p_sum_list = 0\n",
    "    for k in range(7):\n",
    "        p_list.append (bernoull(n, k, p))\n",
    "    for i in p_list:\n",
    "        p_sum_list = p_sum_list + i\n",
    "    if (1 - p_sum_list) >= 0.9:\n",
    "        print (f\"Необходимо выстрелов: {n}, при вероятности равной: {1 - p_sum_list}\")\n",
    "        break\n",
    "    n = n + 1"
   ]
  },
  {
   "cell_type": "code",
   "execution_count": null,
   "id": "0d46e609",
   "metadata": {},
   "outputs": [],
   "source": []
  }
 ],
 "metadata": {
  "kernelspec": {
   "display_name": "Python 3 (ipykernel)",
   "language": "python",
   "name": "python3"
  },
  "language_info": {
   "codemirror_mode": {
    "name": "ipython",
    "version": 3
   },
   "file_extension": ".py",
   "mimetype": "text/x-python",
   "name": "python",
   "nbconvert_exporter": "python",
   "pygments_lexer": "ipython3",
   "version": "3.9.2"
  }
 },
 "nbformat": 4,
 "nbformat_minor": 5
}
