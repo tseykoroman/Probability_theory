{
  "cells": [
    {
      "cell_type": "markdown",
      "metadata": {
        "id": "7gPF3_QJn9r2"
      },
      "source": [
        "# Теория вероятностей и математическая статистика\n",
        "\n",
        "## Урок 6\n",
        "\n",
        "## Взаимосвязь величин. Показатели корреляции. Корреляционный анализ. Проверка на нормальность"
      ]
    },
    {
      "cell_type": "markdown",
      "metadata": {
        "id": "tW_Lr-Dqn9sJ"
      },
      "source": [
        "### Многомерный статистический анализ"
      ]
    },
    {
      "cell_type": "markdown",
      "source": [
        "1. Даны значения величины заработной платы заемщиков банка (zp) и значения их поведенческого кредитного скоринга (ks):\n",
        "zp = [35, 45, 190, 200, 40, 70, 54, 150, 120, 110],\n",
        "ks = [401, 574, 874, 919, 459, 739, 653, 902, 746, 832].\n",
        "Найдите ковариацию этих двух величин с помощью элементарных действий, а затем с помощью функции cov из numpy\n",
        "Полученные значения должны быть равны.\n",
        "Найдите коэффициент корреляции Пирсона с помощью ковариации и среднеквадратичных отклонений двух признаков,\n",
        "а затем с использованием функций из библиотек numpy и pandas.\n"
      ],
      "metadata": {
        "id": "QNM7yw2P5DaW"
      }
    },
    {
      "cell_type": "code",
      "source": [
        "import pandas as pd\n",
        "import numpy as np\n",
        "\n",
        "df = pd.DataFrame()\n",
        "df['zp'] = [35, 45, 190, 200, 40, 70, 54, 150, 120, 110]\n",
        "df['ks'] = [401, 574, 874, 919, 459, 739, 653, 902, 746, 832]\n",
        "\n",
        "X = df['zp']\n",
        "Y = df['ks']\n",
        "\n",
        "MX = X.mean()\n",
        "MY = Y.mean()\n",
        "\n",
        "cov1 = ((X - MX) * (Y - MY)).sum() / (X.shape[0] - 1)\n",
        "cov2 = np.cov(X, Y, ddof=1)\n",
        "\n",
        "\n",
        "print(f'Несмещенная ковариация двух величин с помощью элементарных действий: {cov1:.3f}, с помощью функции cov из numpy {cov2[1,0]:.3f}')\n",
        "\n",
        "corr1 = cov1 / (X.std() * Y.std())\n",
        "corr2 = df[['zp', 'ks']].corr().at['zp', 'ks']\n",
        "\n",
        "print(f'Коэффициент корреляции Пирсона с помощью ковариации и среднеквадратичных отклонений двух признаков: {corr1:.3f}, с использованием функций из библиотек numpy и pandas {corr2:.3f}')\n"
      ],
      "metadata": {
        "colab": {
          "base_uri": "https://localhost:8080/"
        },
        "id": "6NjIkxBn2ojm",
        "outputId": "71d72b07-0153-4c66-b688-d5a9befca5b4"
      },
      "execution_count": 15,
      "outputs": [
        {
          "output_type": "stream",
          "name": "stdout",
          "text": [
            "Несмещенная ковариация двух величин с помощью элементарных действий: 10175.378, с помощью функции cov из numpy 10175.378\n",
            "Коэффициент корреляции Пирсона с помощью ковариации и среднеквадратичных отклонений двух признаков: 0.887, с использованием функций из библиотек numpy и pandas 0.887\n"
          ]
        }
      ]
    },
    {
      "cell_type": "markdown",
      "source": [
        "2. Измерены значения IQ выборки студентов,\n",
        "обучающихся в местных технических вузах:\n",
        "131, 125, 115, 122, 131, 115, 107, 99, 125, 111.\n",
        "Известно, что в генеральной совокупности IQ распределен нормально.\n",
        "Найдите доверительный интервал для математического ожидания с надежностью 0.95.\n"
      ],
      "metadata": {
        "id": "KJsjslFM7MXM"
      }
    },
    {
      "cell_type": "markdown",
      "source": [
        "__Решение__\n",
        "\n",
        "Требуется построить доверительный интервал для математического ожидания нормально распределённой случайной величины. Дисперсия генеральной совокупности нам не известна. Будем использовать распределение Стьюдента: $$t = \\frac{\\overline X - \\mu}{\\sigma\\sqrt{n}}$$\n",
        "Отсюда \n",
        "$$\\overline{X} - t_{right}\\frac{\\sigma}{\\sqrt{n}} <= \\mu <= \\overline{X} - t_{left}\\frac{\\sigma}{\\sqrt{n}}$$"
      ],
      "metadata": {
        "id": "lEuBPcD-tMdf"
      }
    },
    {
      "cell_type": "code",
      "source": [
        "iq = np.array([131, 125, 115, 122, 131, 115, 107, 99, 125, 111])\n",
        "iq"
      ],
      "metadata": {
        "colab": {
          "base_uri": "https://localhost:8080/"
        },
        "id": "3iT3aosYtAC2",
        "outputId": "10e3dfa3-9fe9-4b85-8ce7-02fbe8124d25"
      },
      "execution_count": 16,
      "outputs": [
        {
          "output_type": "execute_result",
          "data": {
            "text/plain": [
              "array([131, 125, 115, 122, 131, 115, 107,  99, 125, 111])"
            ]
          },
          "metadata": {},
          "execution_count": 16
        }
      ]
    },
    {
      "cell_type": "code",
      "source": [
        "n = len(iq)\n",
        "n"
      ],
      "metadata": {
        "colab": {
          "base_uri": "https://localhost:8080/"
        },
        "id": "qpUuJS5LtXoF",
        "outputId": "97f8623d-586c-4ef3-b03b-f853941c916b"
      },
      "execution_count": 17,
      "outputs": [
        {
          "output_type": "execute_result",
          "data": {
            "text/plain": [
              "10"
            ]
          },
          "metadata": {},
          "execution_count": 17
        }
      ]
    },
    {
      "cell_type": "code",
      "source": [
        "t2a = 2.2622 #критерий стьюдента (std не известно) для а = (1-0.95)/2 и ст. своб = 9\n",
        "\n",
        "t1 = iq.mean() - (t2a * iq.std(ddof=1) / np.sqrt(n))\n",
        "t2 = iq.mean() + (t2a * iq.std(ddof=1) / np.sqrt(n))\n",
        "(t1, t2)"
      ],
      "metadata": {
        "colab": {
          "base_uri": "https://localhost:8080/"
        },
        "id": "goLaM3f6tcdh",
        "outputId": "4af127fb-3b13-41f3-bbf5-01123e3170d8"
      },
      "execution_count": 18,
      "outputs": [
        {
          "output_type": "execute_result",
          "data": {
            "text/plain": [
              "(110.55594079648245, 125.64405920351754)"
            ]
          },
          "metadata": {},
          "execution_count": 18
        }
      ]
    },
    {
      "cell_type": "markdown",
      "source": [
        "3. Известно, что рост футболистов в сборной распределен нормально\n",
        "с дисперсией генеральной совокупности, равной 25 кв.см. Объем выборки равен 27,\n",
        "среднее выборочное составляет 174.2. Найдите доверительный интервал для математического\n",
        "ожидания с надежностью 0.95.\n"
      ],
      "metadata": {
        "id": "Ulne4RAu8fon"
      }
    },
    {
      "cell_type": "markdown",
      "source": [
        "__Решение__\n",
        "\n",
        "Требуется построить доверительный интервал для математического ожидания нормально распределённой случайной величины $X$ с известным средним квадратическим отклонением. Воспользуемся готовой формулой:\n",
        "$$P \\left( \\overline{X} + t_{\\alpha / 2} \\cdot \\dfrac{\\sigma}{\\sqrt{n}} \\leq \\mu \\leq \\overline{X} + t_{1 - \\alpha / 2} \\cdot \\dfrac{\\sigma}{\\sqrt{n}} \\right) = p,$$\n",
        "где $p = 1 - \\alpha$, $t_{x}$ — квантиль порядка $x$ для стандартного распределения. В нашем случае $\\sigma = \\sqrt{25} = 5$, $\\sqrt{n} = 3$."
      ],
      "metadata": {
        "id": "TNYQZPmT8qer"
      }
    },
    {
      "cell_type": "code",
      "source": [
        "n = 27\n",
        "mean = 174.2\n",
        "std = 5\n",
        "\n",
        "p = 0.95\n",
        "alpha = 1 - p\n",
        "\n",
        "n, mean, std"
      ],
      "metadata": {
        "colab": {
          "base_uri": "https://localhost:8080/"
        },
        "id": "8obFw_YE7QOz",
        "outputId": "0a5d4abc-ceb9-444f-b440-661b2eff1890"
      },
      "execution_count": 19,
      "outputs": [
        {
          "output_type": "execute_result",
          "data": {
            "text/plain": [
              "(27, 174.2, 5)"
            ]
          },
          "metadata": {},
          "execution_count": 19
        }
      ]
    },
    {
      "cell_type": "markdown",
      "source": [
        "Квантили:"
      ],
      "metadata": {
        "id": "4x6K__Ed-spm"
      }
    },
    {
      "cell_type": "code",
      "source": [
        "from scipy import stats\n",
        "t1 = stats.norm.ppf(alpha / 2)\n",
        "t2 = stats.norm.ppf(1 - alpha / 2)\n",
        "\n",
        "t1, t2"
      ],
      "metadata": {
        "colab": {
          "base_uri": "https://localhost:8080/"
        },
        "id": "Ru-QGDsJ-ul-",
        "outputId": "6c473210-6b6a-40a8-c2be-8987efe70af8"
      },
      "execution_count": 20,
      "outputs": [
        {
          "output_type": "execute_result",
          "data": {
            "text/plain": [
              "(-1.959963984540054, 1.959963984540054)"
            ]
          },
          "metadata": {},
          "execution_count": 20
        }
      ]
    },
    {
      "cell_type": "markdown",
      "source": [
        "Доверительный интервал:"
      ],
      "metadata": {
        "id": "U-KkdrnI-yeq"
      }
    },
    {
      "cell_type": "code",
      "source": [
        "ci = (mean + t1 * std / np.sqrt(n), mean + t2 * std / np.sqrt(n))\n",
        "ci"
      ],
      "metadata": {
        "colab": {
          "base_uri": "https://localhost:8080/"
        },
        "id": "LU3XG2QS-6Jv",
        "outputId": "331efdb1-5e88-40b0-e9f8-41a245853b4c"
      },
      "execution_count": 21,
      "outputs": [
        {
          "output_type": "execute_result",
          "data": {
            "text/plain": [
              "(172.3140237765397, 176.08597622346028)"
            ]
          },
          "metadata": {},
          "execution_count": 21
        }
      ]
    }
  ],
  "metadata": {
    "colab": {
      "name": "Копия блокнота \"practice6.ipynb\"",
      "provenance": [],
      "collapsed_sections": []
    },
    "kernelspec": {
      "display_name": "Python 3",
      "language": "python",
      "name": "python3"
    },
    "language_info": {
      "codemirror_mode": {
        "name": "ipython",
        "version": 3
      },
      "file_extension": ".py",
      "mimetype": "text/x-python",
      "name": "python",
      "nbconvert_exporter": "python",
      "pygments_lexer": "ipython3",
      "version": "3.8.5"
    }
  },
  "nbformat": 4,
  "nbformat_minor": 0
}